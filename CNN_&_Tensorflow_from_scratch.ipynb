{
  "nbformat": 4,
  "nbformat_minor": 0,
  "metadata": {
    "colab": {
      "name": "CNN & Tensorflow from scratch.ipynb",
      "version": "0.3.2",
      "provenance": [],
      "include_colab_link": true
    },
    "kernelspec": {
      "name": "python3",
      "display_name": "Python 3"
    },
    "accelerator": "GPU"
  },
  "cells": [
    {
      "cell_type": "markdown",
      "metadata": {
        "id": "view-in-github",
        "colab_type": "text"
      },
      "source": [
        "<a href=\"https://colab.research.google.com/github/Via-88/Deep-Learning/blob/master/CNN_%26_Tensorflow_from_scratch.ipynb\" target=\"_parent\"><img src=\"https://colab.research.google.com/assets/colab-badge.svg\" alt=\"Open In Colab\"/></a>"
      ]
    },
    {
      "metadata": {
        "id": "0BrlCuK20Yi0",
        "colab_type": "text"
      },
      "cell_type": "markdown",
      "source": [
        "#CNN & Tensorflow \n",
        "***\n",
        "\n",
        "**Tensorflow** is a fast and flexible open-source ML library for research and production, developed by Google Brain team.\n",
        "\n",
        "**Keras** is a high-level API to build and train deep learning models.\n",
        "***\n",
        "\n",
        "The aim of this work is to create and train a CNN from scratch to complete a images classification task. \n",
        "\n",
        "**Dataset**\n",
        "\n",
        "The [Fashion_MNIST Dataset](https://keras.io/datasets/) contains ten categories: 0. T-shirt/top, 1. Trouser, 2. Pullover, 3. Dress, 4. Coat, 5. Sandal, 6. Shirt, 7. Bag, 8. Sneaker 9. Ankle boot."
      ]
    },
    {
      "metadata": {
        "id": "mLtanmsV6HuH",
        "colab_type": "text"
      },
      "cell_type": "markdown",
      "source": [
        "### Import the dataset\n",
        "\n",
        "Load the fashion_MNIST dataset with keras.datasets API."
      ]
    },
    {
      "metadata": {
        "id": "UFluO_2alxET",
        "colab_type": "code",
        "colab": {}
      },
      "cell_type": "code",
      "source": [
        "!pip install -q -U tensorflow>=1.8.0"
      ],
      "execution_count": 0,
      "outputs": []
    },
    {
      "metadata": {
        "id": "GScVXq6pm4w4",
        "colab_type": "code",
        "colab": {}
      },
      "cell_type": "code",
      "source": [
        "import tensorflow as tf\n",
        "import math\n",
        "import numpy as np\n",
        "import matplotlib.pyplot as plt"
      ],
      "execution_count": 0,
      "outputs": []
    },
    {
      "metadata": {
        "id": "Hq9HIAzNmQ79",
        "colab_type": "code",
        "colab": {
          "base_uri": "https://localhost:8080/",
          "height": 153
        },
        "outputId": "163907da-1e23-43d5-8904-437dcd9ec4ba"
      },
      "cell_type": "code",
      "source": [
        "# split dataset\n",
        "\n",
        "(x_train, y_train), (x_test, y_test) = tf.keras.datasets.fashion_mnist.load_data()"
      ],
      "execution_count": 3,
      "outputs": [
        {
          "output_type": "stream",
          "text": [
            "Downloading data from https://storage.googleapis.com/tensorflow/tf-keras-datasets/train-labels-idx1-ubyte.gz\n",
            "32768/29515 [=================================] - 0s 0us/step\n",
            "Downloading data from https://storage.googleapis.com/tensorflow/tf-keras-datasets/train-images-idx3-ubyte.gz\n",
            "26427392/26421880 [==============================] - 1s 0us/step\n",
            "Downloading data from https://storage.googleapis.com/tensorflow/tf-keras-datasets/t10k-labels-idx1-ubyte.gz\n",
            "8192/5148 [===============================================] - 0s 0us/step\n",
            "Downloading data from https://storage.googleapis.com/tensorflow/tf-keras-datasets/t10k-images-idx3-ubyte.gz\n",
            "4423680/4422102 [==============================] - 0s 0us/step\n"
          ],
          "name": "stdout"
        }
      ]
    },
    {
      "metadata": {
        "id": "5rEohJWNoHA1",
        "colab_type": "code",
        "colab": {
          "base_uri": "https://localhost:8080/",
          "height": 34
        },
        "outputId": "c6053c2c-a4c6-495d-eac3-06bd59e0474f"
      },
      "cell_type": "code",
      "source": [
        "print(\"x_train shape:\", x_train.shape, \"y_train shape:\", y_train.shape)"
      ],
      "execution_count": 4,
      "outputs": [
        {
          "output_type": "stream",
          "text": [
            "x_train shape: (60000, 28, 28) y_train shape: (60000,)\n"
          ],
          "name": "stdout"
        }
      ]
    },
    {
      "metadata": {
        "id": "mxhFUOvhpXDy",
        "colab_type": "code",
        "colab": {
          "base_uri": "https://localhost:8080/",
          "height": 34
        },
        "outputId": "3fdeb357-66e6-410e-a49e-bd6bfdd91c0b"
      },
      "cell_type": "code",
      "source": [
        "print(\"x_test shape:\", x_test.shape, \"y_test shape:\", y_test.shape)"
      ],
      "execution_count": 5,
      "outputs": [
        {
          "output_type": "stream",
          "text": [
            "x_test shape: (10000, 28, 28) y_test shape: (10000,)\n"
          ],
          "name": "stdout"
        }
      ]
    },
    {
      "metadata": {
        "id": "VBGt7p-DqkuR",
        "colab_type": "code",
        "colab": {}
      },
      "cell_type": "code",
      "source": [
        "class_names = ['T-shirt/top', 'Trouser', 'Pullover', 'Dress', 'Coat', 'Sandal','Shirt','Sneaker', 'Bag','Ankle boot']"
      ],
      "execution_count": 0,
      "outputs": []
    },
    {
      "metadata": {
        "id": "vQ2Dna4ArTug",
        "colab_type": "code",
        "colab": {}
      },
      "cell_type": "code",
      "source": [
        ""
      ],
      "execution_count": 0,
      "outputs": []
    },
    {
      "metadata": {
        "id": "lJcPmAGOoerJ",
        "colab_type": "text"
      },
      "cell_type": "markdown",
      "source": [
        "### Normalize data"
      ]
    },
    {
      "metadata": {
        "id": "6NUlvz4CsAHa",
        "colab_type": "code",
        "colab": {}
      },
      "cell_type": "code",
      "source": [
        "x_train = x_train.astype('float32') / 255\n",
        "X_test = x_test.astype('float32') / 255"
      ],
      "execution_count": 0,
      "outputs": []
    },
    {
      "metadata": {
        "id": "UZfW6ZRzsyve",
        "colab_type": "code",
        "colab": {
          "base_uri": "https://localhost:8080/",
          "height": 34
        },
        "outputId": "dcda2811-1fc2-426d-8f13-68fc7f23bed9"
      },
      "cell_type": "code",
      "source": [
        "print(x_test[0].shape)"
      ],
      "execution_count": 8,
      "outputs": [
        {
          "output_type": "stream",
          "text": [
            "(28, 28)\n"
          ],
          "name": "stdout"
        }
      ]
    },
    {
      "metadata": {
        "id": "WVjViyYQ3nFo",
        "colab_type": "text"
      },
      "cell_type": "markdown",
      "source": [
        "### Visualize data"
      ]
    },
    {
      "metadata": {
        "id": "Z_6I4OMTu4MZ",
        "colab_type": "code",
        "colab": {}
      },
      "cell_type": "code",
      "source": [
        "\n",
        "image = x_test[0]\n",
        "label = y_test[0]\n",
        "  "
      ],
      "execution_count": 0,
      "outputs": []
    },
    {
      "metadata": {
        "id": "UGBP-NXTvtbI",
        "colab_type": "code",
        "colab": {
          "base_uri": "https://localhost:8080/",
          "height": 361
        },
        "outputId": "c1557958-c7a5-4083-b990-d6a7b4c85eca"
      },
      "cell_type": "code",
      "source": [
        "plt.figure()\n",
        "plt.imshow(image,cmap=plt.cm.binary)\n",
        "plt.xlabel(class_names[label])\n",
        "plt.colorbar()\n",
        "plt.grid(False)\n",
        "plt.show()"
      ],
      "execution_count": 12,
      "outputs": [
        {
          "output_type": "display_data",
          "data": {
            "image/png": "[encoded data removed]",
            "text/plain": [
              "<Figure size 576x396 with 2 Axes>"
            ]
          },
          "metadata": {
            "tags": []
          }
        }
      ]
    },
    {
      "metadata": {
        "id": "c3gmcWmKuQc9",
        "colab_type": "code",
        "colab": {
          "base_uri": "https://localhost:8080/",
          "height": 606
        },
        "outputId": "7ff2135a-4517-4adf-c6c2-369ecd027bb9"
      },
      "cell_type": "code",
      "source": [
        "plt.figure(figsize=(10,10))\n",
        "for i in range(25):\n",
        "  image = x_test[i]\n",
        "  label = y_test[i]\n",
        "  plt.xticks([])\n",
        "  plt.yticks([])\n",
        "  plt.subplot(5,5,i+1)\n",
        "  plt.xlabel(class_names[label])\n",
        "  plt.imshow(image,cmap=plt.cm.binary)\n",
        "  i +=1\n",
        "plt.show()"
      ],
      "execution_count": 13,
      "outputs": [
        {
          "output_type": "display_data",
          "data": {
            "image/png": "[encoded data removed]",
            "text/plain": [
              "<Figure size 720x720 with 25 Axes>"
            ]
          },
          "metadata": {
            "tags": []
          }
        }
      ]
    },
    {
      "metadata": {
        "id": "5Jol-bR1348U",
        "colab_type": "text"
      },
      "cell_type": "markdown",
      "source": [
        "### Create Model"
      ]
    },
    {
      "metadata": {
        "id": "iMpyexGkvvA4",
        "colab_type": "code",
        "colab": {}
      },
      "cell_type": "code",
      "source": [
        "model = tf.keras.Sequential()"
      ],
      "execution_count": 0,
      "outputs": []
    },
    {
      "metadata": {
        "id": "J1_U2cf-2V0v",
        "colab_type": "code",
        "colab": {
          "base_uri": "https://localhost:8080/",
          "height": 445
        },
        "outputId": "560c52ff-8d17-4cf0-b13e-9d0d3dfc21c5"
      },
      "cell_type": "code",
      "source": [
        "model.add(tf.keras.layers.Conv2D(filters=32,kernel_size=3,\n",
        "                                 padding='same',activation='relu',input_shape=(28,28,1))),\n",
        "model.add(tf.keras.layers.MaxPooling2D(pool_size=2)),\n",
        "\n",
        "model.add(tf.keras.layers.Conv2D(filters=64,kernel_size=3,padding='same',\n",
        "                                activation='relu')),\n",
        "model.add(tf.keras.layers.MaxPooling2D(pool_size=2)),\n",
        "\n",
        "model.add(tf.keras.layers.Flatten()),\n",
        "model.add(tf.keras.layers.Dense(256,activation='relu')),\n",
        "model.add(tf.keras.layers.Dense(10,activation='softmax'))\n",
        "\n",
        "model.summary()\n",
        "\n",
        "\n",
        "\n",
        "\n"
      ],
      "execution_count": 15,
      "outputs": [
        {
          "output_type": "stream",
          "text": [
            "WARNING:tensorflow:From /usr/local/lib/python3.6/dist-packages/tensorflow/python/ops/resource_variable_ops.py:435: colocate_with (from tensorflow.python.framework.ops) is deprecated and will be removed in a future version.\n",
            "Instructions for updating:\n",
            "Colocations handled automatically by placer.\n",
            "_________________________________________________________________\n",
            "Layer (type)                 Output Shape              Param #   \n",
            "=================================================================\n",
            "conv2d (Conv2D)              (None, 28, 28, 32)        320       \n",
            "_________________________________________________________________\n",
            "max_pooling2d (MaxPooling2D) (None, 14, 14, 32)        0         \n",
            "_________________________________________________________________\n",
            "conv2d_1 (Conv2D)            (None, 14, 14, 64)        18496     \n",
            "_________________________________________________________________\n",
            "max_pooling2d_1 (MaxPooling2 (None, 7, 7, 64)          0         \n",
            "_________________________________________________________________\n",
            "flatten (Flatten)            (None, 3136)              0         \n",
            "_________________________________________________________________\n",
            "dense (Dense)                (None, 256)               803072    \n",
            "_________________________________________________________________\n",
            "dense_1 (Dense)              (None, 10)                2570      \n",
            "=================================================================\n",
            "Total params: 824,458\n",
            "Trainable params: 824,458\n",
            "Non-trainable params: 0\n",
            "_________________________________________________________________\n"
          ],
          "name": "stdout"
        }
      ]
    },
    {
      "metadata": {
        "id": "GYRHKizB6WFL",
        "colab_type": "text"
      },
      "cell_type": "markdown",
      "source": [
        "### Compile the model\n",
        "Use `model.compile` to configure the learning process before training the model. Here we define the type of loss function and optimizer and metrics evaluated by the model during training and testing."
      ]
    },
    {
      "metadata": {
        "id": "gzZWJHGh1aow",
        "colab_type": "code",
        "colab": {}
      },
      "cell_type": "code",
      "source": [
        "model.compile(optimizer='adam',\n",
        "             loss='sparse_categorical_crossentropy',\n",
        "             metrics=['accuracy'])"
      ],
      "execution_count": 0,
      "outputs": []
    },
    {
      "metadata": {
        "id": "sBWnrTgaAV9A",
        "colab_type": "code",
        "colab": {}
      },
      "cell_type": "code",
      "source": [
        "x_train = x_train.reshape(60000, 28,28, 1)\n",
        "x_test = x_test.reshape(10000,28,28,1)"
      ],
      "execution_count": 0,
      "outputs": []
    },
    {
      "metadata": {
        "id": "bJbDJQkPCoGz",
        "colab_type": "text"
      },
      "cell_type": "markdown",
      "source": [
        "### Train the Model"
      ]
    },
    {
      "metadata": {
        "id": "bE3YdWir4UWh",
        "colab_type": "code",
        "colab": {
          "base_uri": "https://localhost:8080/",
          "height": 204
        },
        "outputId": "e9c622e9-c286-43dc-c30f-113d1ab5e985"
      },
      "cell_type": "code",
      "source": [
        "model.fit(x_train,y_train, batch_size=10,epochs=5)\n"
      ],
      "execution_count": 18,
      "outputs": [
        {
          "output_type": "stream",
          "text": [
            "Epoch 1/5\n",
            "60000/60000 [==============================] - 43s 717us/sample - loss: 0.3590 - acc: 0.8702\n",
            "Epoch 2/5\n",
            "60000/60000 [==============================] - 40s 667us/sample - loss: 0.2357 - acc: 0.9119\n",
            "Epoch 3/5\n",
            "60000/60000 [==============================] - 40s 667us/sample - loss: 0.1906 - acc: 0.9283\n",
            "Epoch 4/5\n",
            "60000/60000 [==============================] - 40s 665us/sample - loss: 0.1559 - acc: 0.9401\n",
            "Epoch 5/5\n",
            "60000/60000 [==============================] - 40s 663us/sample - loss: 0.1275 - acc: 0.9518\n"
          ],
          "name": "stdout"
        },
        {
          "output_type": "execute_result",
          "data": {
            "text/plain": [
              "<tensorflow.python.keras.callbacks.History at 0x7f8bc17ea198>"
            ]
          },
          "metadata": {
            "tags": []
          },
          "execution_count": 18
        }
      ]
    },
    {
      "metadata": {
        "id": "qBNX4PQbCvgP",
        "colab_type": "text"
      },
      "cell_type": "markdown",
      "source": [
        "### Evaluate the accuracy."
      ]
    },
    {
      "metadata": {
        "id": "BaUr-fMi40Qc",
        "colab_type": "code",
        "colab": {
          "base_uri": "https://localhost:8080/",
          "height": 51
        },
        "outputId": "04d80556-06cf-440e-d939-5f53fc1e57b0"
      },
      "cell_type": "code",
      "source": [
        "test_loss,test_accuracy = model.evaluate(x_test,y_test)\n",
        "print(\"Accuracy on test dataset {}\".format(test_accuracy))"
      ],
      "execution_count": 19,
      "outputs": [
        {
          "output_type": "stream",
          "text": [
            "10000/10000 [==============================] - 1s 98us/sample - loss: 2.1122 - acc: 0.8673\n",
            "Accuracy on test dataset 0.8672999739646912\n"
          ],
          "name": "stdout"
        }
      ]
    },
    {
      "metadata": {
        "id": "iq6JN3fe-f3Z",
        "colab_type": "text"
      },
      "cell_type": "markdown",
      "source": [
        "Hmmm, overfitting?\n",
        "\n",
        "#### Tuning parameters.\n",
        "\n",
        "* Set `epochs=1`."
      ]
    },
    {
      "metadata": {
        "id": "wMiXv4tg6tM9",
        "colab_type": "code",
        "colab": {
          "base_uri": "https://localhost:8080/",
          "height": 51
        },
        "outputId": "07a81dd1-2dcf-4528-9143-10addfe1ca42"
      },
      "cell_type": "code",
      "source": [
        "model.fit(x_train,y_train, batch_size=10,epochs=1)"
      ],
      "execution_count": 20,
      "outputs": [
        {
          "output_type": "stream",
          "text": [
            "60000/60000 [==============================] - 40s 664us/sample - loss: 0.1048 - acc: 0.9607\n"
          ],
          "name": "stdout"
        },
        {
          "output_type": "execute_result",
          "data": {
            "text/plain": [
              "<tensorflow.python.keras.callbacks.History at 0x7f8bc19b0c88>"
            ]
          },
          "metadata": {
            "tags": []
          },
          "execution_count": 20
        }
      ]
    },
    {
      "metadata": {
        "id": "jy3gVexU--oL",
        "colab_type": "code",
        "colab": {
          "base_uri": "https://localhost:8080/",
          "height": 51
        },
        "outputId": "816098b0-7d35-487c-a0f3-03b25a7eb94c"
      },
      "cell_type": "code",
      "source": [
        "test_loss,test_accuracy_1 = model.evaluate(x_test,y_test)\n",
        "print(\"Accuracy on test dataset {}\".format(test_accuracy_1))"
      ],
      "execution_count": 22,
      "outputs": [
        {
          "output_type": "stream",
          "text": [
            "10000/10000 [==============================] - 1s 92us/sample - loss: 2.5098 - acc: 0.8424\n",
            "Accuracy on test dataset 0.8424000144004822\n"
          ],
          "name": "stdout"
        }
      ]
    },
    {
      "metadata": {
        "id": "S3LxbdE9_OmN",
        "colab_type": "text"
      },
      "cell_type": "markdown",
      "source": [
        "*  Hmmm, not happy. Set the parameter of the Dense layer after the flatten layer to be 128."
      ]
    },
    {
      "metadata": {
        "id": "B_7EUv6d_RAw",
        "colab_type": "code",
        "colab": {
          "base_uri": "https://localhost:8080/",
          "height": 306
        },
        "outputId": "cc11bff2-04f0-46b8-96c5-2fd2b3e4367e"
      },
      "cell_type": "code",
      "source": [
        "model_new = tf.keras.Sequential()\n",
        "\n",
        "model_new.add(tf.keras.layers.Conv2D(filters=32,kernel_size=3,\n",
        "                                 padding='same',activation='relu',input_shape=(28,28,1))),\n",
        "model_new.add(tf.keras.layers.MaxPooling2D(pool_size=2,strides=2)),\n",
        "\n",
        "#model_new.add(tf.keras.layers.Conv2D(filters=64,kernel_size=3,padding='same',\n",
        "#                                activation='relu')),\n",
        "#model_new.add(tf.keras.layers.MaxPooling2D(pool_size=2,strides=2)),\n",
        "\n",
        "model_new.add(tf.keras.layers.Flatten()),\n",
        "model_new.add(tf.keras.layers.Dense(128,activation='relu')),\n",
        "model_new.add(tf.keras.layers.Dense(10,activation='softmax'))\n",
        "\n",
        "model_new.summary()\n",
        "\n"
      ],
      "execution_count": 34,
      "outputs": [
        {
          "output_type": "stream",
          "text": [
            "_________________________________________________________________\n",
            "Layer (type)                 Output Shape              Param #   \n",
            "=================================================================\n",
            "conv2d_2 (Conv2D)            (None, 28, 28, 32)        320       \n",
            "_________________________________________________________________\n",
            "max_pooling2d_2 (MaxPooling2 (None, 14, 14, 32)        0         \n",
            "_________________________________________________________________\n",
            "flatten_1 (Flatten)          (None, 6272)              0         \n",
            "_________________________________________________________________\n",
            "dense_2 (Dense)              (None, 128)               802944    \n",
            "_________________________________________________________________\n",
            "dense_3 (Dense)              (None, 10)                1290      \n",
            "=================================================================\n",
            "Total params: 804,554\n",
            "Trainable params: 804,554\n",
            "Non-trainable params: 0\n",
            "_________________________________________________________________\n"
          ],
          "name": "stdout"
        }
      ]
    },
    {
      "metadata": {
        "id": "oyMnYU2y_6rk",
        "colab_type": "code",
        "colab": {}
      },
      "cell_type": "code",
      "source": [
        "model_new.compile(optimizer='adam',\n",
        "             loss='sparse_categorical_crossentropy',\n",
        "             metrics=['accuracy'])"
      ],
      "execution_count": 0,
      "outputs": []
    },
    {
      "metadata": {
        "id": "rJHCvrhw_7Kf",
        "colab_type": "code",
        "colab": {
          "base_uri": "https://localhost:8080/",
          "height": 221
        },
        "outputId": "7e663bc0-be40-4495-be35-cae5f266a562"
      },
      "cell_type": "code",
      "source": [
        "model_new.fit(x_train,y_train,batch_size=32,epochs=5,validation_data=(x_test, y_test),shuffle=True)"
      ],
      "execution_count": 36,
      "outputs": [
        {
          "output_type": "stream",
          "text": [
            "Train on 60000 samples, validate on 10000 samples\n",
            "Epoch 1/5\n",
            "60000/60000 [==============================] - 12s 200us/sample - loss: 0.3849 - acc: 0.8619 - val_loss: 2.3409 - val_acc: 0.8523\n",
            "Epoch 2/5\n",
            "60000/60000 [==============================] - 12s 196us/sample - loss: 0.2582 - acc: 0.9057 - val_loss: 2.1479 - val_acc: 0.8642\n",
            "Epoch 3/5\n",
            "60000/60000 [==============================] - 12s 195us/sample - loss: 0.2126 - acc: 0.9220 - val_loss: 2.0055 - val_acc: 0.8734\n",
            "Epoch 4/5\n",
            "60000/60000 [==============================] - 12s 196us/sample - loss: 0.1790 - acc: 0.9337 - val_loss: 1.8084 - val_acc: 0.8859\n",
            "Epoch 5/5\n",
            "60000/60000 [==============================] - 12s 197us/sample - loss: 0.1496 - acc: 0.9447 - val_loss: 1.7336 - val_acc: 0.8908\n"
          ],
          "name": "stdout"
        },
        {
          "output_type": "execute_result",
          "data": {
            "text/plain": [
              "<tensorflow.python.keras.callbacks.History at 0x7f64dfe6db70>"
            ]
          },
          "metadata": {
            "tags": []
          },
          "execution_count": 36
        }
      ]
    },
    {
      "metadata": {
        "id": "5GPPpDJFA1cm",
        "colab_type": "code",
        "colab": {
          "base_uri": "https://localhost:8080/",
          "height": 51
        },
        "outputId": "1728d78a-49d4-4cc9-8b0b-8322cbdb5f90"
      },
      "cell_type": "code",
      "source": [
        "test_loss,test_accuracy_1 = model_new.evaluate(x_test,y_test,  )\n",
        "print(\"Accuracy on test dataset {}\".format(test_accuracy_1))"
      ],
      "execution_count": 37,
      "outputs": [
        {
          "output_type": "stream",
          "text": [
            "10000/10000 [==============================] - 1s 74us/sample - loss: 1.7336 - acc: 0.8908\n",
            "Accuracy on test dataset 0.8907999992370605\n"
          ],
          "name": "stdout"
        }
      ]
    },
    {
      "metadata": {
        "id": "z5NnUB6UBSAi",
        "colab_type": "text"
      },
      "cell_type": "markdown",
      "source": [
        "Not perfect. But it is almost bed time. Let's keep going."
      ]
    },
    {
      "metadata": {
        "id": "KHgO_7vGcNjd",
        "colab_type": "text"
      },
      "cell_type": "markdown",
      "source": [
        "### Make predictions and explore"
      ]
    },
    {
      "metadata": {
        "id": "1JzUHuWUEADa",
        "colab_type": "code",
        "colab": {
          "base_uri": "https://localhost:8080/",
          "height": 34
        },
        "outputId": "d939b195-5571-4ea9-d67f-e2f868ed958d"
      },
      "cell_type": "code",
      "source": [
        "x_test[10:25].shape"
      ],
      "execution_count": 38,
      "outputs": [
        {
          "output_type": "execute_result",
          "data": {
            "text/plain": [
              "(15, 28, 28, 1)"
            ]
          },
          "metadata": {
            "tags": []
          },
          "execution_count": 38
        }
      ]
    },
    {
      "metadata": {
        "id": "6LYWQMJODswc",
        "colab_type": "code",
        "colab": {
          "base_uri": "https://localhost:8080/",
          "height": 272
        },
        "outputId": "8386ec88-0634-49e4-c4f8-0d3cf1b39163"
      },
      "cell_type": "code",
      "source": [
        "test_images = x_test[:15]\n",
        "test_labels = y_test[:15]\n",
        "predictions = model_new.predict(test_images)\n",
        "predictions[:15]"
      ],
      "execution_count": 39,
      "outputs": [
        {
          "output_type": "execute_result",
          "data": {
            "text/plain": [
              "array([[0., 0., 0., 0., 0., 0., 0., 0., 0., 1.],\n",
              "       [0., 0., 1., 0., 0., 0., 0., 0., 0., 0.],\n",
              "       [0., 1., 0., 0., 0., 0., 0., 0., 0., 0.],\n",
              "       [0., 1., 0., 0., 0., 0., 0., 0., 0., 0.],\n",
              "       [0., 0., 0., 0., 0., 0., 1., 0., 0., 0.],\n",
              "       [0., 1., 0., 0., 0., 0., 0., 0., 0., 0.],\n",
              "       [0., 0., 0., 0., 1., 0., 0., 0., 0., 0.],\n",
              "       [0., 0., 0., 0., 0., 0., 1., 0., 0., 0.],\n",
              "       [0., 0., 0., 0., 0., 1., 0., 0., 0., 0.],\n",
              "       [0., 0., 0., 0., 0., 0., 0., 1., 0., 0.],\n",
              "       [0., 0., 0., 0., 1., 0., 0., 0., 0., 0.],\n",
              "       [0., 0., 0., 0., 0., 1., 0., 0., 0., 0.],\n",
              "       [0., 0., 0., 0., 0., 0., 0., 0., 1., 0.],\n",
              "       [0., 0., 0., 1., 0., 0., 0., 0., 0., 0.],\n",
              "       [0., 0., 0., 0., 1., 0., 0., 0., 0., 0.]], dtype=float32)"
            ]
          },
          "metadata": {
            "tags": []
          },
          "execution_count": 39
        }
      ]
    },
    {
      "metadata": {
        "id": "vVdBF2UKpHkZ",
        "colab_type": "code",
        "colab": {
          "base_uri": "https://localhost:8080/",
          "height": 187
        },
        "outputId": "7edb98e7-7bfd-4b46-d808-d2021bbebb67"
      },
      "cell_type": "code",
      "source": [
        "from sklearn.metrics import confusion_matrix\n",
        "\n",
        "confusion_matrix(\n",
        "    y_test,\n",
        "    model_new.predict_classes(x_test),\n",
        ")\n"
      ],
      "execution_count": 40,
      "outputs": [
        {
          "output_type": "execute_result",
          "data": {
            "text/plain": [
              "array([[740,  15,  15,  21,  12,   1, 186,   0,  10,   0],\n",
              "       [  1, 991,   0,   2,   4,   0,   1,   0,   1,   0],\n",
              "       [  5,   2, 762,   6, 111,   0, 114,   0,   0,   0],\n",
              "       [  2,  87,  20, 819,  39,   0,  32,   0,   1,   0],\n",
              "       [  0,   1,  16,  19, 910,   0,  54,   0,   0,   0],\n",
              "       [  0,   0,   0,   0,   1, 981,   0,   6,   1,  11],\n",
              "       [ 38,   6,  32,  20,  77,   0, 820,   0,   7,   0],\n",
              "       [  0,   0,   0,   0,   0,  22,   0, 925,   4,  49],\n",
              "       [  2,   3,   3,   1,   3,   2,   8,   1, 977,   0],\n",
              "       [  0,   0,   0,   0,   1,   5,   1,   9,   1, 983]])"
            ]
          },
          "metadata": {
            "tags": []
          },
          "execution_count": 40
        }
      ]
    },
    {
      "metadata": {
        "id": "1EnRYAjApK0T",
        "colab_type": "code",
        "colab": {}
      },
      "cell_type": "code",
      "source": [
        ""
      ],
      "execution_count": 0,
      "outputs": []
    },
    {
      "metadata": {
        "id": "js9p6a3adm55",
        "colab_type": "code",
        "colab": {
          "base_uri": "https://localhost:8080/",
          "height": 34
        },
        "outputId": "5914cfc2-c290-4229-8abd-d6ccb6913007"
      },
      "cell_type": "code",
      "source": [
        "np.argmax(predictions[12])"
      ],
      "execution_count": 133,
      "outputs": [
        {
          "output_type": "execute_result",
          "data": {
            "text/plain": [
              "8"
            ]
          },
          "metadata": {
            "tags": []
          },
          "execution_count": 133
        }
      ]
    },
    {
      "metadata": {
        "id": "pfIf3ZmPduz5",
        "colab_type": "code",
        "colab": {
          "base_uri": "https://localhost:8080/",
          "height": 34
        },
        "outputId": "2bc11d1f-cac1-4104-d6bf-e61faf2bf401"
      },
      "cell_type": "code",
      "source": [
        "test_labels[12]"
      ],
      "execution_count": 134,
      "outputs": [
        {
          "output_type": "execute_result",
          "data": {
            "text/plain": [
              "7"
            ]
          },
          "metadata": {
            "tags": []
          },
          "execution_count": 134
        }
      ]
    },
    {
      "metadata": {
        "id": "M5M6I_vId-G1",
        "colab_type": "code",
        "colab": {}
      },
      "cell_type": "code",
      "source": [
        "def plot_image(i, predictions_array, true_labels, images):\n",
        "  predictions_array, true_label, img = predictions_array[i], true_labels[i], images[i]\n",
        "  plt.grid(False)\n",
        "  plt.xticks([])\n",
        "  plt.yticks([])\n",
        "  \n",
        "  plt.imshow(img[...,0],cmap=plt.cm.binary)\n",
        "  \n",
        "  predicted_label = np.argmax(predictions_array)\n",
        "  if predicted_label == true_label:\n",
        "    color = 'blue'\n",
        "  else:\n",
        "    color = 'red'\n",
        "  \n",
        "  plt.xlabel(\"{} {:2.0f}% {}\".format(class_names[predicted_label],\n",
        "                                   100*np.max(predictions_array),\n",
        "                                    class_names[true_label]),\n",
        "                                    color=color\n",
        "                                   )\n",
        "  \n",
        "def plot_value_array(i, predictions_array, true_labels):\n",
        "  predictions_array, true_label = predictions_array[i], true_labels[i]\n",
        "  plt.grid(False)\n",
        "  plt.xticks([])\n",
        "  plt.yticks([])\n",
        "  \n",
        "  thisplot = plt.bar(range(10), predictions_array, color = \"#777777\")\n",
        "  plt.ylim([0,1])\n",
        "  predicted_label = np.argmax(predictions_array)\n",
        "  \n",
        "  thisplot[predicted_label].set_color('red')\n",
        "  thisplot[true_label].set_color('blue')"
      ],
      "execution_count": 0,
      "outputs": []
    },
    {
      "metadata": {
        "id": "ejXKriw1hMz-",
        "colab_type": "code",
        "colab": {
          "base_uri": "https://localhost:8080/",
          "height": 203
        },
        "outputId": "93732d6f-01a0-4435-b130-0f1b1c847235"
      },
      "cell_type": "code",
      "source": [
        "i = 0\n",
        "plt.figure(figsize=(6,3))\n",
        "plt.subplot(1,2,1)\n",
        "plot_image(i, predictions, test_labels, test_images)\n",
        "plt.subplot(1,2,2)\n",
        "plot_value_array(i, predictions, test_labels)\n"
      ],
      "execution_count": 42,
      "outputs": [
        {
          "output_type": "display_data",
          "data": {
            "image/png": "[encoded data removed]",
            "text/plain": [
              "<Figure size 432x216 with 2 Axes>"
            ]
          },
          "metadata": {
            "tags": []
          }
        }
      ]
    },
    {
      "metadata": {
        "id": "jtvqMSuXjKw-",
        "colab_type": "code",
        "colab": {
          "base_uri": "https://localhost:8080/",
          "height": 203
        },
        "outputId": "a361bc6b-625a-403c-dafb-8b2e7a09928d"
      },
      "cell_type": "code",
      "source": [
        "i = 2\n",
        "plt.figure(figsize=(6,3))\n",
        "plt.subplot(1,2,1)\n",
        "plot_image(i, predictions, test_labels, test_images)\n",
        "plt.subplot(1,2,2)\n",
        "plot_value_array(i, predictions, test_labels)\n"
      ],
      "execution_count": 43,
      "outputs": [
        {
          "output_type": "display_data",
          "data": {
            "image/png": "[encoded data removed]",
            "text/plain": [
              "<Figure size 432x216 with 2 Axes>"
            ]
          },
          "metadata": {
            "tags": []
          }
        }
      ]
    },
    {
      "metadata": {
        "id": "tdrSPO3BFZ3V",
        "colab_type": "code",
        "colab": {
          "base_uri": "https://localhost:8080/",
          "height": 34
        },
        "outputId": "509981cf-59b0-49fa-dfd1-3e614b5049c1"
      },
      "cell_type": "code",
      "source": [
        "x_test[3].reshape(28,28).shape"
      ],
      "execution_count": 78,
      "outputs": [
        {
          "output_type": "execute_result",
          "data": {
            "text/plain": [
              "(28, 28)"
            ]
          },
          "metadata": {
            "tags": []
          },
          "execution_count": 78
        }
      ]
    },
    {
      "metadata": {
        "id": "w6utlesBETMk",
        "colab_type": "code",
        "colab": {
          "base_uri": "https://localhost:8080/",
          "height": 448
        },
        "outputId": "17474660-979c-4895-e486-8675786d7611"
      },
      "cell_type": "code",
      "source": [
        "plt.figure(figsize=(10,8))\n",
        "\n",
        "for i in range(15):\n",
        "  img = (x_test[i]).reshape(28,28)\n",
        "  \n",
        "  plt.subplot(3,5,i+1)\n",
        "  plt.grid(False)\n",
        "  plt.xticks([])\n",
        "  plt.yticks([])\n",
        "\n",
        "  plt.imshow(img,cmap=plt.cm.binary)\n",
        "\n",
        "  predicted_label = np.argmax(predictions[i])\n",
        "  true_label = y_test[i]\n",
        "  if predicted_label == true_label:\n",
        "    color = 'blue'\n",
        "  else:\n",
        "    color = 'red'\n",
        "\n",
        "  plt.xlabel(\"{} {:2.0f}% {}\".format(class_names[predicted_label],\n",
        "                                   100*np.max(predictions[i]),\n",
        "                                    class_names[true_label]),\n",
        "                                    color=color\n",
        "                                   )"
      ],
      "execution_count": 83,
      "outputs": [
        {
          "output_type": "display_data",
          "data": {
            "image/png": "[encoded data removed]",
            "text/plain": [
              "<Figure size 720x576 with 15 Axes>"
            ]
          },
          "metadata": {
            "tags": []
          }
        }
      ]
    }
  ]
}